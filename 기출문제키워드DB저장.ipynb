{
 "cells": [
  {
   "cell_type": "code",
   "execution_count": null,
   "id": "a70b2745-49ad-459e-8964-fa07bee499ae",
   "metadata": {},
   "outputs": [],
   "source": [
    "import json\n",
    "import pymysql\n",
    "\n",
    "# ✅ DB 연결\n",
    "conn = pymysql.connect(\n",
    "    host=\"project-db-cgi.smhrd.com\",\n",
    "    port= 3307,\n",
    "    user=\"MPD\",\n",
    "    password=\"15987\",\n",
    "    database=\"MPD\",\n",
    "    charset=\"utf8mb4\"\n",
    ")\n",
    "cursor = conn.cursor()\n",
    "\n",
    "# ✅ JSON 파일 불러오기\n",
    "with open(\"./2021년 2회.json\", \"r\", encoding=\"utf-8\") as f:\n",
    "    keyword_data = json.load(f)\n",
    "\n",
    "# ✅ keyword_list 업데이트 (quiz_id 1~99)\n",
    "for item in keyword_data:\n",
    "    quiz_id = item[\"문제 번호\"]+297\n",
    "    if quiz_id > 393:\n",
    "        continue  # 393번 이상은 건너뛰기\n",
    "\n",
    "    keyword_list = item[\"TF-IDF 키워드\"]\n",
    "    keyword_json = json.dumps(keyword_list, ensure_ascii=False)  # 문자열화\n",
    "\n",
    "    sql = \"\"\"\n",
    "        UPDATE tb_quiz\n",
    "        SET keyword_list = %s\n",
    "        WHERE quiz_id = %s\n",
    "    \"\"\"\n",
    "    cursor.execute(sql, (keyword_json, quiz_id))\n",
    "\n",
    "# ✅ 반영 및 종료\n",
    "conn.commit()\n",
    "cursor.close()\n",
    "conn.close()\n",
    "\n",
    "print(\"✅ MySQL: quiz_id 298-393번까지 keyword_list 업데이트 완료!\")\n"
   ]
  }
 ],
 "metadata": {
  "kernelspec": {
   "display_name": "Python [conda env:base] *",
   "language": "python",
   "name": "conda-base-py"
  },
  "language_info": {
   "codemirror_mode": {
    "name": "ipython",
    "version": 3
   },
   "file_extension": ".py",
   "mimetype": "text/x-python",
   "name": "python",
   "nbconvert_exporter": "python",
   "pygments_lexer": "ipython3",
   "version": "3.12.7"
  }
 },
 "nbformat": 4,
 "nbformat_minor": 5
}
